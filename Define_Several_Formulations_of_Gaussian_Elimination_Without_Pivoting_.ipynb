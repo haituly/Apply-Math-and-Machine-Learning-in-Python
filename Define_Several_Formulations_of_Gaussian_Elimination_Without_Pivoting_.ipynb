{
  "nbformat": 4,
  "nbformat_minor": 0,
  "metadata": {
    "colab": {
      "provenance": [],
      "authorship_tag": "ABX9TyNSOwZi2nczROcolCri/pEE",
      "include_colab_link": true
    },
    "kernelspec": {
      "name": "python3",
      "display_name": "Python 3"
    },
    "language_info": {
      "name": "python"
    }
  },
  "cells": [
    {
      "cell_type": "markdown",
      "metadata": {
        "id": "view-in-github",
        "colab_type": "text"
      },
      "source": [
        "<a href=\"https://colab.research.google.com/github/haituly/Apply-Math-and-Machine-Learning-in-Python/blob/main/Define_Several_Formulations_of_Gaussian_Elimination_Without_Pivoting_.ipynb\" target=\"_parent\"><img src=\"https://colab.research.google.com/assets/colab-badge.svg\" alt=\"Open In Colab\"/></a>"
      ]
    },
    {
      "cell_type": "code",
      "source": [
        "# Using slices to perform forward and backward substitution.\n",
        "# We define lowerfSub(A,b) function to perform row oriented forward substitution for lower triangular systems using only one for loop.\n",
        "def lowerfSub(A,b):\n",
        "  n=len(A)\n",
        "  x=np.zeros(n)\n",
        "  x[0]=b[0]/A[0,0]\n",
        "  for i in range(1,n):\n",
        "    x[i]=1/A[i,i]*(b[i]-np.dot(A[i,0:i],x[0:i]))\n",
        "  return x"
      ],
      "metadata": {
        "id": "_wmUEp1o5Kty"
      },
      "execution_count": null,
      "outputs": []
    },
    {
      "cell_type": "code",
      "source": [
        "# We validate code using matrix\n",
        "import numpy as np\n",
        "B=[[1,0,0,0],[2,3,0,0],[1,-1,9,0],[2,0,3,1]]\n",
        "A=np.matrix(B)\n",
        "b=np.random.rand(4)\n",
        "print(A)\n",
        "print(b)\n",
        "print(lowerfSub(A,b))\n",
        "x=lowerfSub(A,b)\n",
        "np.allclose(A@x,b)"
      ],
      "metadata": {
        "colab": {
          "base_uri": "https://localhost:8080/"
        },
        "id": "8IpDFtGQnNfz",
        "outputId": "6a0e47bd-8ea6-4fa5-9eef-60bad454bacb"
      },
      "execution_count": null,
      "outputs": [
        {
          "output_type": "stream",
          "name": "stdout",
          "text": [
            "[[ 1  0  0  0]\n",
            " [ 2  3  0  0]\n",
            " [ 1 -1  9  0]\n",
            " [ 2  0  3  1]]\n",
            "[0.70751247 0.39621394 0.90197785 0.06087386]\n",
            "[ 0.70751247 -0.33960366 -0.01612648 -1.30577165]\n"
          ]
        },
        {
          "output_type": "execute_result",
          "data": {
            "text/plain": [
              "True"
            ]
          },
          "metadata": {},
          "execution_count": 2
        }
      ]
    },
    {
      "cell_type": "code",
      "source": [
        "# We also define upperbSub(A,b) functions like the one above to perform row oriented backward substitution.\n",
        "def upperbSub(A,b):\n",
        "  n=len(A)\n",
        "  x=np.zeros(n)\n",
        "  x[n-1]=b[n-1]/A[n-1,n-1]\n",
        "  for i in range(1,n):\n",
        "     x[n-1-i]=1/A[n-1-i,n-1-i]*(b[n-1-i]-np.dot(A[n-1-i,n-i:],x[n-i:]))\n",
        "  return x\n",
        "# Validate our code\n",
        "np.allclose(A@x,b)"
      ],
      "metadata": {
        "colab": {
          "base_uri": "https://localhost:8080/"
        },
        "id": "4zCnaU6MoEZA",
        "outputId": "ba828c00-1617-4990-bf83-4bcb41ea785c"
      },
      "execution_count": null,
      "outputs": [
        {
          "output_type": "execute_result",
          "data": {
            "text/plain": [
              "True"
            ]
          },
          "metadata": {},
          "execution_count": 3
        }
      ]
    },
    {
      "cell_type": "markdown",
      "source": [
        "Define Inner Product Formulation of Gaussian Elimination"
      ],
      "metadata": {
        "id": "pHPaFn6UolGp"
      }
    },
    {
      "cell_type": "code",
      "source": [
        "# We write a function innerGEWP(A) containing only one for loop which takes in an n × n matrix and uses the inner product form of Gaussian elimination without pivoting to compute its LU decomposition.\n",
        "def innerGEWP(A):\n",
        "  B=np.zeros((len(A),len(A)))\n",
        "  B[0,:]=A[0,:]\n",
        "  B[1:,0]=A[1:,0]/A[0,0]\n",
        "  for i in range(len(A)):\n",
        "    B[i,i:]=A[i,i:]-B[i,:i]@B[:i,i:]\n",
        "    B[i+1:,i]=1/B[i,i]*(A[i+1:,i]-B[i+1:,:i]@B[:i,i])\n",
        "  return B\n",
        "\n",
        "# Define a Split Function to split the output of innerGEWP function into n x n matrices L and U.\n",
        "def split(A):\n",
        "  U=np.zeros((len(A),len(A)))\n",
        "  L=np.eye(len(A))\n",
        "  for i in range(len(A)):\n",
        "     U[i,i:]=A[i,i:]\n",
        "     L[i+1:,i]=A[i+1:,i]\n",
        "  return L, U\n",
        "\n",
        "# Validate our code\n",
        "A=np.random.rand(20,20)\n",
        "L,U=split(innerGEWP(A))\n",
        "np.allclose(L@U,A)"
      ],
      "metadata": {
        "id": "2ejbhL4opAAI",
        "colab": {
          "base_uri": "https://localhost:8080/"
        },
        "outputId": "e06f4337-82bc-4c9d-aa24-7fc47cac7eef"
      },
      "execution_count": null,
      "outputs": [
        {
          "output_type": "execute_result",
          "data": {
            "text/plain": [
              "True"
            ]
          },
          "metadata": {},
          "execution_count": 4
        }
      ]
    },
    {
      "cell_type": "code",
      "source": [
        "# Define Outer Product Formulation of Gaussian Elimination.\n",
        "def outerGEWP(A):\n",
        "  B = np.copy(A)\n",
        "  for i in range(len(A)-1):\n",
        "    B[i+1:,i]=B[i+1:,i]/B[i,i]\n",
        "    B[i+1:,i+1:]=B[i+1:,i+1:]-np.outer(B[i+1:,i],B[i,i+1:])\n",
        "  return B\n",
        "\n",
        "# Validate our code\n",
        "A=np.random.rand(20,20)\n",
        "L,U=split(outerGEWP(A))\n",
        "np.allclose(L@U,A)"
      ],
      "metadata": {
        "id": "Uf13THvkp2Uw",
        "colab": {
          "base_uri": "https://localhost:8080/"
        },
        "outputId": "199c5742-dea1-40be-aeb0-de690972a7c8"
      },
      "execution_count": null,
      "outputs": [
        {
          "output_type": "execute_result",
          "data": {
            "text/plain": [
              "True"
            ]
          },
          "metadata": {},
          "execution_count": 5
        }
      ]
    }
  ]
}