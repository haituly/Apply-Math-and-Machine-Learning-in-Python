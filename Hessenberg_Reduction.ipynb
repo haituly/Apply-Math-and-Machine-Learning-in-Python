{
  "nbformat": 4,
  "nbformat_minor": 0,
  "metadata": {
    "colab": {
      "provenance": [],
      "authorship_tag": "ABX9TyOrFvlkeUpLRoi+EXkoU9Ss",
      "include_colab_link": true
    },
    "kernelspec": {
      "name": "python3",
      "display_name": "Python 3"
    },
    "language_info": {
      "name": "python"
    }
  },
  "cells": [
    {
      "cell_type": "markdown",
      "metadata": {
        "id": "view-in-github",
        "colab_type": "text"
      },
      "source": [
        "<a href=\"https://colab.research.google.com/github/haituly/Apply-Math-and-Machine-Learning-in-Python/blob/main/Hessenberg_Reduction.ipynb\" target=\"_parent\"><img src=\"https://colab.research.google.com/assets/colab-badge.svg\" alt=\"Open In Colab\"/></a>"
      ]
    },
    {
      "cell_type": "markdown",
      "source": [
        "Code up a Hessenberg reduced implicitly shifted QR iteration"
      ],
      "metadata": {
        "id": "7jzHWsGE0Fsq"
      }
    },
    {
      "cell_type": "code",
      "execution_count": 4,
      "metadata": {
        "id": "phsrjJ7dw6cZ"
      },
      "outputs": [],
      "source": [
        "# We will create a function myHess(A) which returns the upper Hessenberg form of A.\n",
        "# And we need to define 2 reflectMults function to implement myHess(A).\n",
        "import numpy as np\n",
        "def reflectMult1(A,w):\n",
        "  w /= np.linalg.norm(w)\n",
        "  A -= 2*np.outer(w,w@A)\n",
        "\n",
        "def reflectMult2(A,w):\n",
        "  w /= np.linalg.norm(w)\n",
        "  A -= 2*np.outer(A@w,w)\n",
        "\n",
        "def sgn(x):\n",
        "  if x==0:\n",
        "    return 1\n",
        "  else:\n",
        "    return np.sign(x)\n",
        "\n",
        "# Code up a Hessenberg reduced implicitly shifted QR iteration.\n",
        "def myHess(A):\n",
        "    m,n=A.shape\n",
        "    R=np.copy(A)\n",
        "    for i in range(n-2):\n",
        "      w=np.copy(R[i+1:,i])\n",
        "      w[0]+=sgn(w[0])*np.linalg.norm(w)\n",
        "      reflectMult1(R[i+1:,:],w)\n",
        "      reflectMult2(R[:,i+1:],w)\n",
        "    return R"
      ]
    },
    {
      "cell_type": "code",
      "source": [
        "# Now we can validate our code.\n",
        "P=np.random.rand(50,50)\n",
        "d=np.random.rand(50)\n",
        "A=np.linalg.inv(P)@np.diag(d)@P\n",
        "d.sort()\n",
        "H=myHess(A)\n",
        "eigen=np.linalg.eigvals(H)\n",
        "eigen.sort()\n",
        "print(np.allclose(eigen,d))\n",
        "print(np.allclose(np.zeros((49,49)),np.tril(H[1:,:49],-1)))"
      ],
      "metadata": {
        "colab": {
          "base_uri": "https://localhost:8080/"
        },
        "id": "-n4xFLd_0wBi",
        "outputId": "2d042c79-ce2e-4184-a280-aa6d6684d3ad"
      },
      "execution_count": 2,
      "outputs": [
        {
          "output_type": "stream",
          "name": "stdout",
          "text": [
            "True\n",
            "True\n"
          ]
        }
      ]
    },
    {
      "cell_type": "code",
      "source": [
        "# We can further validate this code to make sure it won’t produce a bottleneck in eigenvalue computation.\n",
        "from time import process_time as pt\n",
        "n=20\n",
        "k=50\n",
        "times=np.zeros(n)\n",
        "x=np.linspace(k,k*n,num=n)\n",
        "for i in range(n):\n",
        "  A=np.random.rand(k+i*k,k+i*k)\n",
        "  start=pt()\n",
        "  myHess(A)\n",
        "  times[i]=(pt()-start)/(k+i*k)**3\n",
        "from matplotlib import pyplot as plt\n",
        "plt.plot(x,times,\"bo\")"
      ],
      "metadata": {
        "colab": {
          "base_uri": "https://localhost:8080/",
          "height": 293
        },
        "id": "oU5Ht46w005L",
        "outputId": "083842bf-5009-4f00-8cdf-34324a56b515"
      },
      "execution_count": 3,
      "outputs": [
        {
          "output_type": "execute_result",
          "data": {
            "text/plain": [
              "[<matplotlib.lines.Line2D at 0x7fe2f45922e0>]"
            ]
          },
          "metadata": {},
          "execution_count": 3
        },
        {
          "output_type": "display_data",
          "data": {
            "text/plain": [
              "<Figure size 432x288 with 1 Axes>"
            ],
            "image/png": "[encoded data removed]"
          },
          "metadata": {
            "needs_background": "light"
          }
        }
      ]
    }
  ]
}